{
 "cells": [
  {
   "cell_type": "markdown",
   "metadata": {},
   "source": [
    "# Урок 3. Домашнее задание"
   ]
  },
  {
   "cell_type": "markdown",
   "metadata": {},
   "source": [
    "__1.__  Найти предел последовательности:\n",
    "\n",
    "### $$a)\\,\\,\\,\\,\\lim_{n\\to \\infty} \\frac{(23-2n^2)(3n^2+17)^2}{4n^6+n-1} = \\lim_{n\\to \\infty}\\frac{(23-2n^2)(9n^4+102n^2+289)}{4n^6+n-1}= \\lim_{n\\to \\infty}\\frac{207n^4+2461n^2+6647-18n^6-204n^4-578n^2}{4n^6+n-1} = \\lim_{n\\to \\infty}\\frac{-18n^6+3n^4+1883n^2+6647}{4n^6+n-1}=\\frac{-18}{4}=\\frac{-9}{2} $$\n",
    "\n",
    "### $$b)\\,\\,\\,\\,\\lim_{n\\to \\infty} \\frac{(97-2n)^3}{2n(3n^2+15)+8n}=\\lim_{n\\to \\infty}\\frac{-8n^3-3\\cdot9409\\cdot2n= 3\\cdot97\\cdot4n^2+912673}{6n^3+38n}=\\frac{-8}{6}=\\frac{-4}{3}$$\n",
    "\n",
    "### $$c)\\,\\,\\,\\,\\lim_{n\\to \\infty} \\frac{2n^3+13n(n+18)}{(27-n)(2n+19)^2}=\\lim_{n\\to \\infty}\\frac{2n^3+13n^2+18\\cdot13n)}{(27-n)(4n^2+4n\\cdot19+361}= \\frac{-2}{4} = \\frac{-1}{2}$$\n",
    "\n",
    "### $$d)\\,\\,\\,\\,\\lim_{n\\to \\infty} (\\sqrt{n^2+1}-n) = \\lim_{n\\to \\infty}(\\sqrt{n^2+1}-n)\\cdot\\frac{\\sqrt{n^2+1}+n}{\\sqrt{n^2+1}+n}=\\lim_{n\\to \\infty}\\frac{{n^2+1}-n^2}{\\sqrt{n^2+1}+n}=\\Bigl(\\frac{1}{\\infty}\\Bigr)=0$$\n",
    "\n",
    "### $$e)\\,\\,\\,\\,\\lim_{n\\to \\infty} \\frac{(-4)^n+5\\cdot7^n}{(-4)^{n-1}+7^{n+2}}=\\lim_{n\\to \\infty} \\frac{(-4)^n+5\\cdot7^n}{{(-4^n)}\\cdot\\frac{-1}{4}+{7^n\\cdot49}}= \\lim_{n\\to \\infty} \\frac{7^n\\cdot((\\frac{4}{7})^n+5)}{{7^n\\cdot((\\frac{-4}{7})^n}\\cdot\\frac{-1}{4}+49)}=\\frac{5}{49} $$\n",
    "\n",
    "### $$f)^*\\,\\,\\,\\,\\lim_{n\\to \\infty} \\Bigl(\\frac{1}{1\\cdot2}+\\frac{1}{2\\cdot3}+\\frac{1}{3\\cdot4}+...+\\frac{1}{(n-1)\\cdot n}\\Bigr)=\\lim_{n\\to \\infty}\\Bigl((1 -\\frac{1}{2})+(\\frac{1}{2}-\\frac{1}{3})+(\\frac{1}{3}-\\frac{1}{4})+...+(\\frac{1}{(n-1)}-\\frac{1}{n})\\Bigr)=1$$"
   ]
  },
  {
   "cell_type": "markdown",
   "metadata": {},
   "source": [
    "__2.__ Представьте $1$ в виде суммы трех рациональных дробей с разными знаменателями и числителем равным $1$.\n",
    "\n",
    "$$ \\frac{1}{(n-1)\\cdot n} =\\frac{1}{(n-1)}-\\frac{1}{n}$$ \n",
    "\n",
    "$$ \\frac{1}{(n-1)}=\\frac{1}{n}+\\frac{1}{(n-1)\\cdot n}=\\frac{1}{n+1-1}+\\frac{1}{(n-1+1)\\cdot (n-1)}$$ \n",
    "$$\\frac{1}{n}=\\frac{1}{n+1}+\\frac{1}{(n+1)\\cdot n}$$ \n",
    "При n = 1\n",
    "$$\\frac{1}{1}=\\frac{1}{1+1}+\\frac{1}{(1+1)\\cdot 1}=\\frac{1}{2}+ \\frac{1}{2}$$ \n",
    "При n = 2\n",
    "$$\\frac{1}{2}=\\frac{1}{2+1}+\\frac{1}{(2+1)\\cdot 2}=\\frac{1}{3}+ \\frac{1}{6}$$ \n",
    "Ответ:\n",
    "$$ 1 = \\frac{1}{2}+ \\frac{1}{2} = \\frac{1}{2}+\\frac{1}{3}+\\frac{1}{6}$$\n"
   ]
  },
  {
   "cell_type": "markdown",
   "metadata": {},
   "source": [
    "__3$^*$.__ Тоже задание, только в виде суммы шести дробей."
   ]
  },
  {
   "cell_type": "markdown",
   "metadata": {},
   "source": [
    "Из предыдущего задания\n",
    "$$ \\frac{1}{2}=\\frac{1}{3}+\\frac{1}{6}$$\n",
    "При n = 3\n",
    "$$ \\frac{1}{3}=\\frac{1}{4}+\\frac{1}{12}$$\n",
    "При n=6\n",
    "$$ \\frac{1}{6}=\\frac{1}{7}+\\frac{1}{42}$$\n",
    "$$ 1 = \\frac{1}{2}+ \\frac{1}{2} = \\frac{1}{3}+\\frac{1}{6} +\\frac{1}{4}+\\frac{1}{12}+\\frac{1}{7}+\\frac{1}{42}$$"
   ]
  },
  {
   "cell_type": "markdown",
   "metadata": {},
   "source": [
    "__4.__ Пользуясь критерием Коши, докажите сходимость последовательности:\n",
    "\n",
    "### $$a_n=\\frac{\\sin1}{2}+\\frac{\\sin2}{2^2}+\\frac{\\sin3}{2^3}+..\\frac{\\sin n}{2^n}\\,\\,\\,\\,\\,\\Rightarrow$$\n",
    "\n",
    "### $$\\Bigl\\{a_n\\Bigr\\}_{n=1}^\\infty=\\Bigl\\{\\frac{\\sin1}{2}, \\frac{\\sin1}{2}+\\frac{\\sin2}{2^2}, ..., a_n,...\\Bigr\\}$$\n"
   ]
  },
  {
   "cell_type": "markdown",
   "metadata": {},
   "source": [
    "**Решение:**\n",
    "### $$ a_n =  \\frac{\\\\sin1}{2}, \\frac{\\\\sin1}{2}+\\frac{\\\\sin2}{2^2}, ... \\frac{sinn}{2^n},$$\n",
    "### $$ \\mid a_{n+m} - a_{n} \\mid \\, = \\,\\mid \\frac{sin\\ n+1}{2^{n+1}} + \\frac{sin +2}{2^{n+2}} + ... + \\frac{sin\\ n+m}{2^{n+m}}\\mid \\,\\leq \\, \\frac{1}{2^{n+1}} + \\frac{1}{2^{n+2}} + ... + \\frac{1}{2^{n+m}} = $$\n",
    "### $$ = \\frac{\\frac{1}{2^{n+1}}(1 - \\frac{1}{2^n})}{1-\\frac{1}{2}} = \\frac{1}{2^n}-\\frac{1}{2^{2n}} \\leq \\frac{1}{2^n} < \\varepsilon, \\forall\\varepsilon > 0$$\n",
    "если  $\\displaystyle \\frac{1}{2^n} < \\varepsilon $, то критерию Коши удовлетворяет.,\n",
    "    \n",
    "### $ 2^{-n} < \\varepsilon$\n",
    "### $- n < \\log_2{\\varepsilon}$\n",
    "тогда для всех $k > 0, n > N$, и где $ N > - \\log_2{\\varepsilon}$ будет справедливо неравенство $|a_{n+k} - a_n| < \\varepsilon$\n"
   ]
  },
  {
   "cell_type": "markdown",
   "metadata": {},
   "source": [
    "$^*$ Какой член последовательности можно взять в качестве предела с точностью $\\varepsilon=10^{-7}$?"
   ]
  },
  {
   "cell_type": "code",
   "execution_count": 1,
   "metadata": {},
   "outputs": [
    {
     "name": "stdout",
     "output_type": "stream",
     "text": [
      "Численное значение предела: 0.5928377620958291308571797762\n",
      " Погрешность: 2.1103165842065516011E-9\n",
      " Число шагов: 22\n"
     ]
    }
   ],
   "source": [
    "import math\n",
    "from decimal import *\n",
    "eps = 10**(-7)\n",
    "lim=1\n",
    "series=[0]\n",
    "res = 0\n",
    "n = 1\n",
    "\n",
    "while lim > eps:    \n",
    "    series += [Decimal(math.sin(n))/Decimal((2**n))]\n",
    "    sum_ = sum(series)\n",
    "    lim = abs(sum_ - res)\n",
    "    res = sum_\n",
    "    n += 1\n",
    "    \n",
    "    \n",
    "print (f'Численное значение предела: {res}\\n',f'Погрешность: {lim}\\n', f'Число шагов: {n-1}')"
   ]
  },
  {
   "cell_type": "markdown",
   "metadata": {},
   "source": [
    "__5$^*$.__  Пользуясь критерием Коши, докажите расходимость последовательности:\n",
    "\n",
    "### $$b_n=1+\\frac{1}{2}+\\frac{1}{3}+..\\frac{1}{n}\\,\\,\\,\\,\\,\\Rightarrow$$\n",
    "\n",
    "### $$\\Bigl\\{b_n\\Bigr\\}_{n=1}^\\infty=\\Bigl\\{1, 1+\\frac{1}{2},1+\\frac{1}{2}+\\frac{1}{3}, ..., b_n,...\\Bigr\\}$$"
   ]
  },
  {
   "cell_type": "markdown",
   "metadata": {},
   "source": [
    "**Должно не выполнятся условие Коши**\n",
    "\n",
    "Решение:"
   ]
  },
  {
   "cell_type": "markdown",
   "metadata": {},
   "source": [
    "### $$ \\mid b_{n+m} - b_{n} \\mid \\, = \\,\\frac{1}{n+1}+\\frac{1}{n+2} + ... + \\frac{1}{n+m} > \\,\\frac{1}{2(n+1)}+\\frac{1}{2(n+2)} + ... + \\frac{1}{2(n+m)} = \\frac{1 \\cdot (n+m)}{2\\cdot(n+m)} = \\frac{1}{2},$$\n",
    "то есть  последовательность расходится"
   ]
  }
 ],
 "metadata": {
  "kernelspec": {
   "display_name": "Python 3",
   "language": "python",
   "name": "python3"
  },
  "language_info": {
   "codemirror_mode": {
    "name": "ipython",
    "version": 3
   },
   "file_extension": ".py",
   "mimetype": "text/x-python",
   "name": "python",
   "nbconvert_exporter": "python",
   "pygments_lexer": "ipython3",
   "version": "3.8.5"
  }
 },
 "nbformat": 4,
 "nbformat_minor": 4
}
