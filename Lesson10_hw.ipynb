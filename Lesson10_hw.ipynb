{
 "cells": [
  {
   "cell_type": "markdown",
   "metadata": {},
   "source": [
    "## Урок 10. Ряда. Домашнее задание"
   ]
  },
  {
   "cell_type": "markdown",
   "metadata": {},
   "source": [
    "__1.__ Исследовать сходимость ряда. \n",
    "\n",
    "\n",
    "### $$\\frac{1}{2\\sqrt2}+\\frac{1}{3\\sqrt3}+\\,...\\,+\\frac{1}{(n+1)\\sqrt{n+1}}+\\,...\\,=\\sum\\limits_{n=1}^{+\\infty}\\frac{1}{(n+1)\\sqrt{n+1}}$$\n",
    "\n",
    "(*) Двумя различными признаками."
   ]
  },
  {
   "cell_type": "markdown",
   "metadata": {},
   "source": [
    "*Второй признак сравнения*\n",
    "$\\mathop {\\lim }\\limits_{n \\to + \\infty } \\frac{1}{{(n + 1)\\sqrt {n + 1} }} = \\mathop {\\lim }\\limits_{n \\to + \\infty } \\frac{1}{{{{(n + 1)}^{\\frac{3}{2}}}}} = 0 \\sim\\,\\,\\,\\,\\,\\,O\\Bigr(\\frac{1}{n^\\frac{3}{2}}\\Bigl)$ \n",
    "\n",
    "Так как степень более 1, то ряд сходится\n",
    "\n",
    "\n",
    "*По признаку д’Аламбера:*\n",
    "$$\\mathop {\\lim }\\limits_{n \\to + \\infty } \\frac{{{a_{n + 1}}}}{{{a_n}}} = \\mathop {\\lim }\\limits_{n \\to + \\infty } \\frac{1}{{{{(n + 2)}^{\\frac{3}{2}}}}}:\\frac{1}{{{{(n + 1)}^{\\frac{3}{2}}}}} = \\mathop {\\lim }\\limits_{n \\to + \\infty } {\\left( {\\frac{{n + 1}}{{n + 2}}} \\right)^{\\frac{3}{2}}} = 1$$\n",
    "Так как предел равен  1 , то в данном случае признак д’Аламбера не работает\n",
    "\n",
    "*По интегральному признаку Коши*\n",
    "\n",
    "$$\\lim_{n\\to +\\infty}\\sqrt[n]{a_{n}}= \\lim_{n\\to +\\infty}{\\frac{1}{\\sqrt[n]{(n + 1)\\sqrt {n + 1} }}}$$\n",
    "\n",
    "### $$\\int\\limits_{1}^{+\\infty}\\frac{1}{(n+1)\\sqrt{n+1}}$$\n"
   ]
  },
  {
   "cell_type": "code",
   "execution_count": 1,
   "metadata": {},
   "outputs": [
    {
     "data": {
      "image/png": "[encoded data removed]",
      "text/latex": [
       "$\\displaystyle \\frac{1}{\\left(x + 1\\right)^{\\frac{3}{2}}}$"
      ],
      "text/plain": [
       "    1     \n",
       "──────────\n",
       "       3/2\n",
       "(x + 1)   "
      ]
     },
     "execution_count": 1,
     "metadata": {},
     "output_type": "execute_result"
    }
   ],
   "source": [
    "from sympy import *\n",
    "init_printing()\n",
    "x=Symbol('x')\n",
    "f=1/(x+1)/sqrt(x+1)\n",
    "f"
   ]
  },
  {
   "cell_type": "code",
   "execution_count": 2,
   "metadata": {},
   "outputs": [
    {
     "data": {
      "image/png": "[encoded data removed]",
      "text/latex": [
       "$\\displaystyle \\sqrt{2}$"
      ],
      "text/plain": [
       "√2"
      ]
     },
     "execution_count": 2,
     "metadata": {},
     "output_type": "execute_result"
    }
   ],
   "source": [
    "integrate(f,(x, 1, +oo))"
   ]
  },
  {
   "cell_type": "markdown",
   "metadata": {},
   "source": [
    "Интеграл посчитать получилось, следовательно ряд сходится"
   ]
  },
  {
   "cell_type": "markdown",
   "metadata": {},
   "source": [
    "__2.__ Исследовать сходимость ряда\n",
    "\n",
    "### $$\\frac{1000}{1!}+\\frac{1000^2}{2!}+\\,...\\,+\\frac{1000^n}{n!}+\\,...\\,=\\sum\\limits_{n=1}^{+\\infty}\\frac{1000^n}{n!}$$"
   ]
  },
  {
   "cell_type": "markdown",
   "metadata": {},
   "source": [
    "По признаку д’Аламбера.\n",
    "$\\mathop {\\lim }\\limits_{n \\to + \\infty } \\frac{{{a_{n + 1}}}}{{{a_n}}} = \\mathop {\\lim }\\limits_{n \\to + \\infty } \\frac{{{{1000}^{n + 1}}}}{{\\left( {n + 1} \\right)!}}:\\frac{{{{1000}^n}}}{{n!}} = \\mathop {\\lim }\\limits_{n \\to + \\infty } \\frac{{n!}}{{\\left( {n + 1} \\right)!}} \\cdot \\frac{{{{1000}^{n + 1}}}}{{{{1000}^n}}} = \\mathop {\\lim }\\limits_{n \\to + \\infty } \\left( {\\frac{1000}{{n + 1}}} \\right) = 0$\n",
    "\n",
    "Так как предел < 1 , то ряд сходится"
   ]
  },
  {
   "cell_type": "markdown",
   "metadata": {},
   "source": [
    "__3*.__ Исследовать сходимость ряда\n",
    "\n",
    "### $$\\frac{2\\cdot1!}{1}+\\frac{2^2\\cdot2!}{2^2}+\\,...\\,+\\frac{2^n\\cdot n!}{n^n}+\\,...\\,=\\sum\\limits_{n=1}^{+\\infty}\\frac{2^n\\cdot n!}{n^n}$$"
   ]
  },
  {
   "cell_type": "markdown",
   "metadata": {},
   "source": [
    "*По признаку д’Аламбера:*\n",
    "$$\\mathop {\\lim }\\limits_{n \\to + \\infty } \\frac{{{a_{n + 1}}}}{{{a_n}}} = \\mathop {\\lim }\\limits_{n \\to + \\infty } \\frac{{{2^{n + 1}} \\cdot \\left( {n + 1} \\right)!}}{{{{\\left( {n + 1} \\right)}^{\\left( {n + 1} \\right)}}}}:\\frac{{{2^n} \\cdot n!}}{{{n^n}}} = \\mathop {\\lim }\\limits_{n \\to + \\infty } \\frac{{2 \\cdot {2^n} \\cdot n! \\cdot \\left( {n + 1} \\right)}}{{{{\\left( {n + 1} \\right)}^n} \\cdot \\left( {n + 1} \\right)}} \\cdot \\frac{n^n}{{{2^n} \\cdot n!}} = 2\\mathop {\\lim }\\limits_{n \\to + \\infty } {\\left( {\\frac{n}{{n + 1}}} \\right)^n} = $$\n",
    "$$= 2\\mathop {\\lim }\\limits_{n \\to + \\infty } {\\left( {1 + \\frac{1}{{ - \\left( {n + 1} \\right)}}} \\right)^{\\frac{{ - n \\cdot \\left( {n + 1} \\right)}}{{\\left( {n + 1} \\right)}}}} = 2\\mathop {\\lim }\\limits_{n \\to + \\infty } {e^{\\frac{{ - n}}{{\\left( {n + 1} \\right)}}}} = 2\\mathop {\\lim }\\limits_{n \\to + \\infty } {e^{ - {1 + \\frac{1}{{\\left( {n + 1} \\right)}}}}} = 2{e^{ - 1}}$$\n",
    "\n",
    "Так как предел < 1 , то ряд сходится"
   ]
  },
  {
   "cell_type": "markdown",
   "metadata": {},
   "source": [
    "__4*.__ Исследовать сходимость ряда\n",
    "\n",
    "### $$\\frac{3\\cdot1!}{1}+\\frac{3^2\\cdot2!}{2^2}+\\,...\\,+\\frac{3^n\\cdot n!}{n^n}+\\,...\\,=\\sum\\limits_{n=1}^{+\\infty}\\frac{3^n\\cdot n!}{n^n}$$"
   ]
  },
  {
   "cell_type": "markdown",
   "metadata": {},
   "source": [
    "*По признаку д’Аламбера:*\n",
    "$$\\mathop {\\lim }\\limits_{n \\to + \\infty } \\frac{{{a_{n + 1}}}}{{{a_n}}} =  \\mathop {\\lim }\\limits_{n \\to + \\infty } \\frac{3^{n+1}\\cdot (n+1)!}{(n+1)^{n+1}}\\cdot \\frac{n^n}{3^n\\cdot n!}= \\mathop {\\lim }\\limits_{n \\to + \\infty } \\frac{3\\cdot n^n}{(n+1)^n}$$"
   ]
  },
  {
   "cell_type": "markdown",
   "metadata": {},
   "source": [
    "$$=3\\lim_{n\\to +\\infty}e^{\\ln n^n - \\ln (n+1)^n} = 3\\lim_{n\\to +\\infty}e^{n(\\ln n - \\ln (n+1))} = 3\\cdot e^{\\lim_{n\\to +\\infty}{n(\\ln n - \\ln (n+1))}}= 3\\cdot e^{\\lim_{n\\to +\\infty}\\frac{(\\ln n - \\ln (n+1))}{1/n}}$$"
   ]
  },
  {
   "cell_type": "markdown",
   "metadata": {},
   "source": [
    "По правилу Лопиталя:\n",
    "$$3\\cdot e^{\\lim_{n\\to +\\infty}\\frac{(\\ln n - \\ln (n+1))}{1/n}}=3e^{\\lim_{n\\to +\\infty}\\frac{\\frac{1}{x} - \\frac{1}{x+1}}{-\\frac{1}{x^2}}} = 3e^{\\lim_{n\\to +\\infty}-\\frac{x}{x+1}} = 3\\cdot e^{-1} > 1$$\n",
    "Так как предел > 1 , то ряд расходится"
   ]
  },
  {
   "cell_type": "markdown",
   "metadata": {},
   "source": [
    "__5*.__ Исследовать сходимость ряда\n",
    "\n",
    "### $$-\\frac{\\sqrt1}{2}+\\frac{\\sqrt2}{3}-\\,...\\,+\\frac{(-1)^n\\sqrt n}{n+1}+\\,...\\,=\\sum\\limits_{n=1}^{+\\infty}\\frac{(-1)^n\\sqrt n}{n+1}$$"
   ]
  },
  {
   "cell_type": "markdown",
   "metadata": {},
   "source": [
    "По признаку д’Аламбера.\n",
    "$$\\mathop {\\lim }\\limits_{n \\to + \\infty } \\frac{{{a_{n + 1}}}}{{{a_n}}} = \\mathop {\\lim }\\limits_{n \\to + \\infty } \\frac{(-1)^{n+1}\\sqrt {n+1}}{n+2}\\cdot \\frac{n+1}{(-1)^{n}\\sqrt {n}}=- \\mathop {\\lim }\\limits_{n \\to + \\infty } \\frac{(n+1)^{3/2}}{(n+2)\\cdot \\sqrt {n}}= -1$$\n",
    "Так как предел < 1 , то ряд сходится"
   ]
  },
  {
   "cell_type": "markdown",
   "metadata": {},
   "source": [
    "__6*.__ Разложить функцию $y=e^x$ в ряд Маклорена, а так же в ряд Фурье на отрезке $[-\\pi, \\pi]$. Построить график функции и разложений."
   ]
  },
  {
   "cell_type": "markdown",
   "metadata": {},
   "source": [
    "*Ряд Маклорена:*\n",
    "$$ e^x = \\cfrac{e^0}{0!}x^0 + \\cfrac{e^0}{1!}x^1 + \\cfrac{e^0}{2!}x^2 + ... = 1 + x + \\cfrac{x^2}{2} + \\cfrac{x^3}{3!} ... +\\frac{1\\cdot x^n}{n!}=\\sum\\limits_{n=0}^{+\\infty}\\frac{x^n}{n!} $$"
   ]
  }
 ],
 "metadata": {
  "kernelspec": {
   "display_name": "Python 3",
   "language": "python",
   "name": "python3"
  },
  "language_info": {
   "codemirror_mode": {
    "name": "ipython",
    "version": 3
   },
   "file_extension": ".py",
   "mimetype": "text/x-python",
   "name": "python",
   "nbconvert_exporter": "python",
   "pygments_lexer": "ipython3",
   "version": "3.8.5"
  }
 },
 "nbformat": 4,
 "nbformat_minor": 4
}
