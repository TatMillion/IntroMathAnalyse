{
 "cells": [
  {
   "cell_type": "markdown",
   "metadata": {},
   "source": [
    "## Урок 8. Производная функции нескольких переменных. Часть 2"
   ]
  },
  {
   "cell_type": "markdown",
   "metadata": {},
   "source": [
    "__1.__ Исследовать на условный экстремум функцию\n",
    "\n",
    "### $$L=3-8x+6y,$$\n",
    "\n",
    "если\n",
    "\n",
    "### $$x^2+y^2=36$$"
   ]
  },
  {
   "cell_type": "markdown",
   "metadata": {},
   "source": [
    "### $$L(\\lambda_1,x,y) = 3-8x+6y+\\lambda(x^2+y^2-36)$$\n",
    "\n",
    "\n",
    "$$\\begin{equation}\n",
    "\\begin{matrix}\n",
    "\\left\\{\n",
    "\\begin{matrix}\n",
    "L'_x=-8+\\lambda_12x=0 \\\\\\\\\n",
    "L'_y=6+\\lambda_12y=0   \\\\\\\\\n",
    "L'_\\lambda=x^2+y^2-36=0 \\\\\\\\\n",
    "\\end{matrix} \\right.\n",
    "\\end{matrix}\n",
    "\\end{equation}$$\n",
    "\n",
    "$$\\begin{equation}\n",
    "\\begin{matrix}\n",
    "\\left\\{\n",
    "\\begin{matrix}\n",
    " x=\\frac{4}{\\lambda} \\\\\\\\\n",
    " y=-\\frac{3}{\\lambda}  \\\\\\\\\n",
    "(\\frac{4}{\\lambda})^2+(-\\frac{3}{\\lambda})^2-36=0 \\\\\\\\\n",
    "\\end{matrix} \\right.\n",
    "\\end{matrix}\n",
    "\\end{equation}$$\n",
    "\n",
    "$$\\lambda_1=\\sqrt{ \\frac{25}{36}}=\\pm\\frac{5}{6}$$\n",
    "\n",
    "Экстремумы: $$(\\frac{24}{5},-\\frac{18}{5},\\frac{5}{6}, \\: и \\: (-\\frac{24}{5},\\frac{18}{5}, -\\frac{5}{6})$$\n",
    "\n",
    "Найдем вторые производные\n",
    "$$\\begin{equation}\n",
    "\\begin{matrix}\n",
    "L''_{xx}=2\\lambda\\\\\\\\\n",
    "L''_{yy}=2\\lambda\\\\\\\\\n",
    "L''_{\\lambda\\lambda}=0\\\\\\\\\n",
    "\\end{matrix}\n",
    "\\end{equation}$$\n",
    "$$\\begin{equation}\n",
    "\\begin{matrix}\n",
    "L''_{xy}=L\"_{yx}=0\\\\\\\\\n",
    "L''_{x\\lambda}=L\"_{\\lambda x}=2x\\\\\\\\\n",
    "L''_{y\\lambda}=L\"_{\\lambda y}=2y\\\\\\\\\n",
    "\\end{matrix}\n",
    "\\end{equation}$$\n",
    "\n",
    "$$\\begin{equation}\n",
    "\\Delta = \\left|\n",
    "\\begin{matrix}\n",
    "0&2x&2y\\\\\\\n",
    "2x&2\\lambda&0\\\\\\\\\n",
    "2y&0&2\\lambda\\\\\\\\\n",
    "\\end{matrix}\n",
    "\\right|\n",
    "\\end{equation}\n",
    "    = 0-2x(2x2\\lambda-0)+2y(0-2y2\\lambda)=-8x^2\\lambda-8y^2\\lambda=-8\\lambda(x^2+y^2)$$\n",
    "    \n",
    "По условию задачи $x^2+y^2=36$, тогда     \n",
    "$$\\Delta=-8\\lambda\\cdot36=-288\\lambda$$\n",
    "\n",
    "Т.е. знак определителя зависит только от знака $\\lambda$.\n",
    "\n",
    "Если $\\lambda=\\frac{5}{6}$, то $\\Delta<0$, следовательно $(\\frac{24}{5},-\\frac{18}{5}, \\frac{5}{6})$ - точка минимума.\n",
    "\n",
    "Если $\\lambda=-\\frac{5}{6}$, то $\\Delta>0$, следовательно $(-\\frac{24}{5},\\frac{18}{5},-\\frac{5}{6})$ - точка максимума."
   ]
  },
  {
   "cell_type": "markdown",
   "metadata": {},
   "source": [
    "__2.__ Исследовать на условный экстремум функцию\n",
    "\n",
    "### $$U=2x^2+12xy+32y^2+15,$$\n",
    "\n",
    "если\n",
    "\n",
    "### $$x^2+16y^2=64$$\n",
    "### $$U(\\lambda_1,x,y) = 2x^2+12xy+32y^2+15+\\lambda(x^2+16y^2-64)$$"
   ]
  },
  {
   "cell_type": "markdown",
   "metadata": {},
   "source": [
    "$$\\begin{equation}\n",
    "\\begin{matrix}\n",
    "\\left\\{\n",
    "\\begin{matrix}\n",
    "U'_x=4x+12y+2x\\lambda=0 \\\\\\\\\n",
    "U'_y=12x+64y+32y\\lambda=0   \\\\\\\\\n",
    "U'_\\lambda=x^2+16y^2-64=0 \\\\\\\\\n",
    "\\end{matrix} \\right.\n",
    "\\end{matrix}\n",
    "\\end{equation}$$\n",
    "\n",
    "\n",
    "\n",
    "$$\\begin{equation}\n",
    "\\begin{matrix}\n",
    "\\left\\{\n",
    "\\begin{matrix}\n",
    " x=\\frac{{ - 6y}}{{\\left( {2 + \\lambda } \\right)}} \\\\\\\\\n",
    " y=\\frac{{ - 3x}}{{ {16 + 8\\lambda }}}  \\\\\\\\\n",
    "x^2+16y^2=64 \\\\\\\\\n",
    "\\end{matrix} \\right.\n",
    "\\end{matrix}\n",
    "\\end{equation}$$\n",
    "\n",
    "$$\\begin{cases}\n",
    "x = -\\cfrac{6y}{2 +\\lambda} \\\\\\\\\n",
    "y = -\\cfrac{3x}{8(2 +\\lambda)} \\\\\\\\\n",
    "\\left( -\\cfrac{6y}{2 +\\lambda} \\right)^2 + 16\\left( -\\cfrac{3x}{8(2 +\\lambda)} \\right)^2 = 64\n",
    "\\end{cases} \n",
    "\\Rightarrow\n",
    "\\begin{cases}\n",
    "x = -\\cfrac{6y}{2 +\\lambda} \\\\\\\\\n",
    "y = -\\cfrac{3x}{8(2 +\\lambda)} \\\\\\\\\n",
    "\\frac{36y^2}{(2 +\\lambda)^2} + \\frac{9x^2}{4(2 +\\lambda)^2} = 64\n",
    "\\end{cases}\\Rightarrow\n",
    "\\begin{cases}\n",
    "x = -\\frac{6y}{2 +\\lambda} \\\\\\\\\n",
    "y = -\\frac{3x}{8(2 +\\lambda)} \\\\\\\\\n",
    "\\frac{9(x^2 +16y^2)}{4(2 +\\lambda)^2} = 64\n",
    "\\end{cases}\\Rightarrow\n",
    "\\begin{cases}\n",
    "x = -\\frac{6y}{2 +\\lambda} \\\\\\\\\n",
    "y = -\\frac{3x}{8(2 +\\lambda)} \\\\\\\\\n",
    "\\cfrac{9 \\cdot 64}{4(2 +\\lambda)^2} = 64\n",
    "\\end{cases}\\Rightarrow\n",
    "\\begin{cases}\n",
    "x = -\\frac{6y}{2 +\\lambda} \\\\\\\\\n",
    "y = -\\frac{3x}{8(2 +\\lambda)} \\\\\\\\\n",
    "\\frac{9 \\cdot 16}{(2 +\\lambda)^2} = 64\n",
    "\\end{cases}\\Rightarrow\n",
    "\\Rightarrow\n",
    "\\begin{cases}\n",
    "x = -\\frac{6y}{2 +\\lambda} \\\\\\\\\n",
    "y = -\\frac{3x}{8(2 +\\lambda)} \\\\\\\\\n",
    "(2 +\\lambda)^2 = \\cfrac{9}{4}\n",
    "\\end{cases}\\Rightarrow\n",
    "\\begin{cases}\n",
    "x = -\\cfrac{6y}{2 +\\lambda} \\\\\\\\\n",
    "y = -\\cfrac{3x}{8(2 +\\lambda)} \\\\\\\\\n",
    "\\lambda^2 +4\\lambda +4 = \\cfrac{9}{4}\n",
    "\\end{cases}\\Rightarrow\n",
    " \\begin{cases}\n",
    "x = -\\cfrac{6y}{2 +\\lambda} \\\\\\\\\n",
    "y = -\\frac{3x}{8(2 +\\lambda)} \\\\\\\\\n",
    "\\lambda_1 = -\\frac{1}{2}; \\lambda_2 = -\\cfrac{7}{2}\n",
    "\\end{cases}\\Rightarrow\n",
    "\\begin{cases}\n",
    "x_1 = -4y;\\ x_2 = 4y \\\\\\\\\n",
    "y_1 = -\\frac{3x}{14};\\ y_2 = \\cfrac{x}{4} \\\\\\\\\n",
    "\\lambda_1 = -\\frac{1}{2};\\ \\lambda_2 -\\cfrac{7}{2}\n",
    "\\end{cases}$$\n",
    "\n",
    "Экстремумы: $$\\left( -4y,\\ -\\frac{3x}{14},\\ -\\frac{1}{2} \\right) ,\\left( 4y, \\frac{x}{4},\\ -\\frac{7}{2} \\right)$$\n",
    "\n",
    "Найдем вторые производные\n",
    "$$U''_{\\lambda\\lambda} = 0 \\\\\\\\\n",
    "U''_{xx} = 4 +2\\lambda \\\\\\\\\n",
    "U''_{yy} = 64 + 32\\lambda \\\\\\\\\n",
    "U''_{x \\lambda} = U''_{\\lambda x} = 2x \\\\\\\\\n",
    "U''_{y \\lambda} = U''_{\\lambda y} = 32y \\\\\\\\\n",
    "U''_{xy} = U''_{yx} = 12$$\n",
    "\n",
    "$$\\Delta = \\begin{vmatrix}\n",
    "0 & 2x & 32y \\\\\\\\\n",
    "2x & 4+2\\lambda & 12 \\\\\\\\\n",
    "32y & 12 & 64+32\\lambda \\\\\\\\\n",
    "\\end{vmatrix} = -256x^2-128x^2\\lambda + 1536xy-4096y^2-2048y^2\\lambda = -256(x^2+16y^2)-128\\lambda(x^2+16y^2)$$\n",
    "\n",
    "По условию задачи $x^2+16y^2=64$, тогда     \n",
    "$$\\Delta=-16384-8192\\lambda=-8292(2+\\lambda)$$\n",
    "\n",
    "Если $\\lambda=-\\frac{1}{2}$, то $\\Delta>0$, следовательно $(-4y, -\\frac{3x}{14}, -\\frac{1}{2})$ - точка максимума\n",
    "\n",
    "Если $\\lambda=-\\frac{7}{2}$, то $\\Delta>0$, следовательно $(4y, \\frac{x}{4}, -\\frac{7}{2})$ - точка максимума."
   ]
  },
  {
   "cell_type": "markdown",
   "metadata": {},
   "source": [
    "__3.__ Численно найти хотя бы один действительный корень системы нелинейных уравнений:\n",
    "### $$\\begin{cases}\n",
    "   x^2-y^2+3xy^3-2x^2y^2+2x-3y-5=0 \\\\\n",
    "   3y^3-2x^2+2x^3y-5x^2y^2+5=0\n",
    " \\end{cases}$$"
   ]
  },
  {
   "cell_type": "code",
   "execution_count": 1,
   "metadata": {},
   "outputs": [
    {
     "name": "stdout",
     "output_type": "stream",
     "text": [
      "-3.65307996 -0.27476342 True\n"
     ]
    }
   ],
   "source": [
    "from scipy.optimize import fsolve\n",
    "import numpy as np\n",
    "\n",
    "def equations(p):\n",
    "    x, y = p\n",
    "    e1 = x**2 - y**2 + 3*x*y**3 - 2*(x**2)*(y**2) + 2*x - 3*y - 5\n",
    "    e2 = 3*y**3 - 2*x**2 + 2*y*x**3 - 5*(x**2)*(y**2) + 5\n",
    "    return (e1, e2)\n",
    "\n",
    "x, y = np.round(fsolve(equations, (-4, 0)), 8)\n",
    "solution = np.round(equations((x, y)), 6)[0] == np.round(equations((x, y)), 6)[1]\n",
    "\n",
    "print(*np.round((x, y), 8), solution)"
   ]
  },
  {
   "cell_type": "markdown",
   "metadata": {},
   "source": [
    "4*. Численно найти все  5  действительных корней."
   ]
  },
  {
   "cell_type": "code",
   "execution_count": 2,
   "metadata": {},
   "outputs": [
    {
     "name": "stderr",
     "output_type": "stream",
     "text": [
      "C:\\Users\\Tato\\anaconda3\\lib\\site-packages\\scipy\\optimize\\minpack.py:175: RuntimeWarning: The iteration is not making good progress, as measured by the \n",
      "  improvement from the last ten iterations.\n",
      "  warnings.warn(msg, RuntimeWarning)\n",
      "C:\\Users\\Tato\\anaconda3\\lib\\site-packages\\scipy\\optimize\\minpack.py:175: RuntimeWarning: The iteration is not making good progress, as measured by the \n",
      "  improvement from the last five Jacobian evaluations.\n",
      "  warnings.warn(msg, RuntimeWarning)\n"
     ]
    },
    {
     "data": {
      "text/plain": [
       "{(-3.65307996, -0.27476342),\n",
       " (1.27330206, 1.66203912),\n",
       " (1.37568714, -0.17475799),\n",
       " (2.21775364, 0.61019398),\n",
       " (2.49435654, 0.70831752)}"
      ]
     },
     "execution_count": 2,
     "metadata": {},
     "output_type": "execute_result"
    }
   ],
   "source": [
    "sol = set()\n",
    "\n",
    "for coord_x in range(-5, 5):\n",
    "    for coord_y in range(-3, 3):\n",
    "        coord = (coord_x, coord_y)\n",
    "        x, y = np.round(fsolve(equations, coord), 8)\n",
    "        if np.round(equations((x, y)), 6)[0] == np.round(equations((x, y)), 6)[1]:\n",
    "            sol.add((x, y))\n",
    "\n",
    "sol"
   ]
  },
  {
   "cell_type": "markdown",
   "metadata": {},
   "source": [
    "__5*.__ Даны две функции $y_{1}=f(x)$ и $y_{2}=g(x)$. Известно, что:\n",
    "\n",
    "### $$f'(x)=\\frac{1}{2}g(x)$$\n",
    "\n",
    "### $$g'(x)=2-2f(x)$$\n",
    "\n",
    "### $$f(0)=0$$\n",
    "\n",
    "### $$g(0)=1$$\n",
    "\n",
    "Восстановить функции $y_{1}=f(x)$ и $y_{2}=g(x)$ с помощью формулы:\n",
    "\n",
    "### $$f(x+\\Delta x) \\approx f(x)+f'(x) \\cdot \\Delta x$$\n",
    "\n",
    "на участке $[0, 20]$\n",
    "\n",
    "В качестве решения построить график этих функций в одной системе координат."
   ]
  },
  {
   "cell_type": "markdown",
   "metadata": {},
   "source": []
  },
  {
   "cell_type": "markdown",
   "metadata": {},
   "source": [
    "__6**.__ Найти все корни уравнения:\n",
    "    \n",
    "### $$f(x)=g(x)$$\n",
    "\n",
    "на участке $[0, 20]$\n",
    "\n",
    "Где $y_{1}=f(x)$ и $y_{2}=g(x)$ - функции из предыдущего решения."
   ]
  }
 ],
 "metadata": {
  "kernelspec": {
   "display_name": "Python 3",
   "language": "python",
   "name": "python3"
  },
  "language_info": {
   "codemirror_mode": {
    "name": "ipython",
    "version": 3
   },
   "file_extension": ".py",
   "mimetype": "text/x-python",
   "name": "python",
   "nbconvert_exporter": "python",
   "pygments_lexer": "ipython3",
   "version": "3.8.5"
  }
 },
 "nbformat": 4,
 "nbformat_minor": 4
}
