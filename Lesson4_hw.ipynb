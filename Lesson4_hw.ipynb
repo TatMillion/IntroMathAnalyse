{
 "cells": [
  {
   "cell_type": "markdown",
   "metadata": {},
   "source": [
    "# Урок 4. Предел функции. Домашнее задание"
   ]
  },
  {
   "cell_type": "markdown",
   "metadata": {},
   "source": [
    "__1.__ Найти предел последовательности:\n",
    "\n",
    "#### $$a)\\,\\,\\,\\,\\lim_{x\\to 6} \\frac{x^2-36}{x^2-x-30}=\\Bigl(\\frac{0}{0}\\Bigr)= \\lim_{x\\to 6} \\frac{(x-6)(x+6)}{(x-6)(x+5)}=\\lim_{x\\to 6} \\frac{x+6}{x+5}= \\frac{12}{11}$$\n",
    "\n",
    "#### $$b)\\,\\,\\,\\,\\lim_{x\\to 7} \\frac{x^2-49}{x^2-13x+42}=\\Bigl(\\frac{0}{0}\\Bigr)=\\lim_{x\\to 7} \\frac{(x-7)(x+7)}{(x-7)(x-6)}=\\lim_{x\\to 7} \\frac{x+7}{x-6}=14$$\n",
    "\n",
    "##### $$c^*)\\,\\,\\,\\,\\lim_{x\\to 7} \\frac{\\sqrt{x+2}-\\sqrt[3]{x+20}}{\\sqrt[4]{x+9}-2}=...$$\n",
    "\n",
    "#### $$d)\\,\\,\\,\\,\\lim_{x\\to 0} \\frac{3x\\,\\mbox{tg}\\,4x}{1-\\cos4x}=\\Bigl(\\frac{0}{0}\\Bigr)=\\lim_{x\\to 0}\\frac{3x\\,\\cdot4x}{{\\frac{{16{x^2}}}{2}}}=\\frac{3}{2}$$\n",
    "\n",
    "#### $$e^{**})\\,\\,\\,\\,\\lim_{x\\to 0} \\frac{\\sqrt2x^2\\sin4x}{(1-\\cos2x)^{\\frac{3}{2}}}=\\lim_{x\\to 0} \\frac{\\sqrt2x^2\\cdot4x}{(\\frac{4x^2}{2})^{\\frac{3}{2}}}=\\lim_{x\\to 0} \\frac{\\sqrt2\\cdot4x^3}{(\\sqrt2)^{3}\\cdot x^3}= \\pm2$$\n",
    "\n",
    "#### $$f)\\,\\,\\,\\,\\lim_{x\\to \\infty} \\Bigr(\\frac{4x^2}{4x+3}\\Bigl)^\\frac{5x^2}{7x-1}=(1)^{+\\infty}$$\n",
    "$$\\lim_{n\\to +\\infty}{\\left( {\\frac{{4x}}{{4x + 3}}} \\right)^{\\frac{{5{x^2}}}{{7x - 1}}}}\\ = \\lim_{n\\to +\\infty}{\\left( {1 + \\frac{1}{{ - \\frac{1}{3}\\left( {4x + 3} \\right)}}} \\right)^{\\frac{{ - 3}}{{4x + 3}} \\cdot \\frac{1}{{ - 3}}\\left( {4x + 3} \\right) \\cdot \\frac{{5{x^2}}}{{7x - 1}}}} = \\lim_{n\\to +\\infty}{e^{ - \\frac{{15{x^2}}}{{\\left( {4x + 3} \\right)\\left( {7x - 1} \\right)}}}} = \\lim_{n\\to +\\infty}{e^{ - \\frac{{15{x^2}}}{{28{x^2} + 17x - 3}}}} = {e^{ - \\frac{{15}}{{28}}}}$$\n",
    "\n",
    "#### $$g^*)\\,\\,\\,\\,\\lim_{x\\to +0} \\frac{5^x-1}{x}=\\Bigl(\\frac{0}{0}\\Bigl) = \\lim_{x\\to +0} \\frac{(5^x-1)'}{x'} = \\lim_{x\\to +0} \\frac{5^x\\cdot ln5}{1} = {ln5}$$\n",
    "\n",
    "#### $$h^*)\\,\\,\\,\\,\\lim_{x\\to +\\infty} \\frac{\\ln(x^2-x+1)}{\\ln(x^{10}+x+1)}$$"
   ]
  },
  {
   "cell_type": "markdown",
   "metadata": {},
   "source": [
    "__2*.__ На языке Python предложить алгоритм вычисляющий численно предел последовательности\n",
    "\n",
    "### $$\\lim_{n\\to +\\infty} \\frac{n}{\\sqrt[n]{n!}}$$"
   ]
  },
  {
   "cell_type": "code",
   "execution_count": null,
   "metadata": {},
   "outputs": [],
   "source": [
    "import math\n",
    "from decimal import Decimal\n",
    "\n",
    "\n",
    "def lim(n):\n",
    "    b = math.factorial(n)\n",
    "    a = n / b**(1/n)\n",
    "    return a\n",
    "\n",
    "\n",
    "eps = 1e-3\n",
    "i = Decimal(2)\n",
    "\n",
    "while (abs(lim(i) - lim(i - 1))) > eps:\n",
    "    i += 1\n",
    "print(f'Предел последовательности {lim(i):.5f}')"
   ]
  }
 ],
 "metadata": {
  "kernelspec": {
   "display_name": "Python 3",
   "language": "python",
   "name": "python3"
  },
  "language_info": {
   "codemirror_mode": {
    "name": "ipython",
    "version": 3
   },
   "file_extension": ".py",
   "mimetype": "text/x-python",
   "name": "python",
   "nbconvert_exporter": "python",
   "pygments_lexer": "ipython3",
   "version": "3.8.5"
  }
 },
 "nbformat": 4,
 "nbformat_minor": 4
}
