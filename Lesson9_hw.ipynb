{
 "cells": [
  {
   "cell_type": "markdown",
   "metadata": {},
   "source": [
    "## Урок 9. Интегралы. Домашнее задание"
   ]
  },
  {
   "cell_type": "markdown",
   "metadata": {},
   "source": [
    "__1.__ Вычислить неопределенный интеграл\n",
    "\n",
    "### $$\\int \\frac{2x+3}{(x-2)(x+5)}\\,dx= $$"
   ]
  },
  {
   "cell_type": "markdown",
   "metadata": {},
   "source": [
    "$$=\\frac{A}{x-2}+\\frac{B}{x+5}=\\frac{A(x+5)+B(x-2)}{(x-2)(x+5)} \\Rightarrow \\begin{cases}\n",
    "A+B=2\\\\\\\\\n",
    "5A-2B=3\n",
    "\\end{cases} \\Rightarrow A = 1, B=1$$\n",
    "\n",
    "$$\\displaystyle \\int\\frac{1}{x-2}\\,dx + \\int\\frac{1}{x+5}\\,dx=\\ln|x-2| + \\ln|x+5| + C$$\""
   ]
  },
  {
   "cell_type": "markdown",
   "metadata": {},
   "source": [
    "__2.__ Вычислить неопределенный интеграл\n",
    "\n",
    "### $$\\int e^{2x}\\cos 3x\\,dx$$"
   ]
  },
  {
   "cell_type": "markdown",
   "metadata": {},
   "source": [
    "### $$U=e^{2x} \\,\\,\\,\\,\\,\\Rightarrow\\,\\,\\,\\,\\, dU=2e^{2x}dx$$ \n",
    "### $$dV=\\cos 3xdx\\,\\,\\,\\,\\,\\Rightarrow\\,\\,\\,\\,\\, V=\\frac{1}{3}\\sin 3x$$\n",
    "Тогда\n",
    "$$\\int e^{2x}\\cos 3x\\,dx=\\frac{1}{3}e^{2x}\\sin 3x- \\frac{2}{3}\\int\\sin 3xe^{2x}dx$$ \n",
    "Воспользуемся формулой ещё раз\n",
    "### $$U=e^{2x} \\,\\,\\,\\,\\,\\Rightarrow\\,\\,\\,\\,\\, dU=2e^{2x}dx$$ \n",
    "### $$dV=\\sin 3xdx\\,\\,\\,\\,\\,\\Rightarrow\\,\\,\\,\\,\\, V=-\\frac{1}{3}\\cos 3x$$\n",
    "Тогда\n",
    "$$\\int e^{2x}\\cos 3x\\,dx=\\frac{1}{3}e^{2x}\\sin 3x+\\frac{2}{9}e^{x}\\cos 3x- \\frac{4}{9}\\int\\cos 3xe^{2x}dx$$\n",
    "Перенесем интеграл из правой части в левую\n",
    "$$ \\frac{13}{9}\\int e^{2x}\\cos 3x\\,dx=\\frac{1}{3}e^{2x}\\sin 3x+\\frac{2}{9}e^{2x}\\cos 3x$$\n",
    "\n",
    "$$\\int {{e^{2x}}} \\cos 3x{\\mkern 1mu} dx = {e^{2x}} \\cdot \\frac{3}{{13}}\\sin 3x + \\frac{2}{{13}}{e^{2x}}\\cos 3$$\n",
    "\n",
    "$$=\\frac{1}{13}{e^{2x}} \\cdot ({3\\sin 3x + 2\\cos 3x}) $$"
   ]
  },
  {
   "cell_type": "markdown",
   "metadata": {},
   "source": [
    "__3.__ Вычислить определенный интеграл\n",
    "\n",
    "### $$\\int\\limits_0^{\\ln2} xe^{-x}\\,dx$$"
   ]
  },
  {
   "cell_type": "markdown",
   "metadata": {},
   "source": [
    "$$U=x,\\Rightarrow\\, dU=dx$$\n",
    "$$dV=e^{-x},\\Rightarrow\\ V=-e^{-x}$$ \n",
    "Тогда\n",
    "$$\\int\\limits_0^{\\ln 2} x {e^{ - x}}{\\mkern 1mu} dx =  - x{e^{ - x}}\\left| {_0^{\\ln 2}} \\right. + \\int\\limits_0^{\\ln 2} {{e^{ - x}}} {\\mkern 1mu} dx =  - x{e^{ - x}}\\left| {_0^{\\ln 2}} \\right. - {e^{ - x}}\\left| {_0^{\\ln 2}} \\right. =  - {e^{ - x}} \\cdot \\left( {x + 1} \\right)\\left| {_0^{\\ln 2}} \\right. =  - {e^{ - \\ln 2}} \\cdot \\left( {\\ln 2 + 1} \\right) + 1 =  - \\frac{1}{2} \\cdot \\left( {\\ln 2 + 1} \\right) +1 = \\frac{1}{2}-\\frac{\\ln2}{2}=0.153$$"
   ]
  },
  {
   "cell_type": "markdown",
   "metadata": {},
   "source": [
    "Решение на python для проверки"
   ]
  },
  {
   "cell_type": "code",
   "execution_count": 18,
   "metadata": {},
   "outputs": [
    {
     "data": {
      "image/png": "[encoded data removed]",
      "text/latex": [
       "$\\displaystyle x e^{- x}$"
      ],
      "text/plain": [
       "   -x\n",
       "x⋅ℯ  "
      ]
     },
     "execution_count": 18,
     "metadata": {},
     "output_type": "execute_result"
    }
   ],
   "source": [
    "from sympy import *\n",
    "init_printing()\n",
    "x=Symbol('x')\n",
    "f=x*exp(-x)\n",
    "f"
   ]
  },
  {
   "cell_type": "code",
   "execution_count": 21,
   "metadata": {},
   "outputs": [
    {
     "name": "stdout",
     "output_type": "stream",
     "text": [
      "0.153426409720027\n"
     ]
    },
    {
     "data": {
      "image/png": "[encoded data removed]",
      "text/latex": [
       "$\\displaystyle \\frac{1}{2} - \\frac{\\log{\\left(2 \\right)}}{2}$"
      ],
      "text/plain": [
       "1   log(2)\n",
       "─ - ──────\n",
       "2     2   "
      ]
     },
     "execution_count": 21,
     "metadata": {},
     "output_type": "execute_result"
    }
   ],
   "source": [
    "import math\n",
    "import numpy as np\n",
    "\n",
    "print(integrate(f,(x, 0, np.log(2))))\n",
    "integrate(f,(x, 0, log(2)))"
   ]
  },
  {
   "cell_type": "markdown",
   "metadata": {},
   "source": [
    "__4.__ Вычислить несобственный интеграл\n",
    "\n",
    "### $$\\int\\limits_2^{+\\infty} \\frac{dx}{x^2+x-2}$$"
   ]
  },
  {
   "cell_type": "markdown",
   "metadata": {},
   "source": [
    "\n",
    "$$\\int\\limits_2^{+\\infty} \\frac{dx}{x^2+x-2}=\\int\\limits_2^{+\\infty} \\frac{dx}{(x+2)(x-1)}$$\n",
    "$$\\frac{1}{(x+2)(x-1)}=\\frac{A}{x+2}+\\frac{B}{x-1}=\\frac{A(x-1)+B(x+2)}{(x+2)(x-1)}=\\frac{x(A+B) - A +2B}{(x+2)(x-1)}  \\Rightarrow \\begin{cases}\n",
    "A+B=0 \\\\\\\\\n",
    "-A+2B=1 \n",
    "\\end{cases} \\Rightarrow \\begin{cases}\n",
    "A=-\\frac{1}{3} \\\\\\\\\n",
    "B=\\frac{1}{3} \n",
    "\\end{cases}$$ \n",
    "$$\\int\\limits_2^{+\\infty} \\frac{dx}{x^2+x-2} =  -\\frac{1}{3}\\lim_{a\\to +\\infty}\\int\\limits_{2}^{a}\\frac{dx}{x+2} + \\frac{1}{3}\\lim_{a\\to +\\infty}\\int\\limits_{2}^{a}\\frac{dx}{x-1}=-\\frac{1}{3}\\lim_{a\\to +\\infty}\\ln|x+2|\\bigg|_2^{a}+\\frac{1}{3}\\lim_{a\\to +\\infty}\\ln|x-1|\\bigg|_2^{a} =$$\n",
    "$$=-\\frac{1}{3}\\lim_{a\\\\to +\\infty}\\ln{\\frac{|x+2|}{|x-1|}}\\bigg|_2^{a} = -\\frac{1}{3}\\lim_{a\\to +\\infty}\\ln{\\frac{|a+2|}{|a-1|}} + \\frac{1}{3}\\lim_{a\\to +\\infty}\\ln4=\\frac{1}{3}\\ln4$$"
   ]
  },
  {
   "cell_type": "markdown",
   "metadata": {},
   "source": [
    "Решение на python для проверки"
   ]
  },
  {
   "cell_type": "code",
   "execution_count": 22,
   "metadata": {},
   "outputs": [
    {
     "data": {
      "image/png": "[encoded data removed]",
      "text/latex": [
       "$\\displaystyle \\frac{1}{x^{2} + x - 2}$"
      ],
      "text/plain": [
       "    1     \n",
       "──────────\n",
       " 2        \n",
       "x  + x - 2"
      ]
     },
     "execution_count": 22,
     "metadata": {},
     "output_type": "execute_result"
    }
   ],
   "source": [
    "from sympy import *\n",
    "init_printing()\n",
    "x=Symbol('x')\n",
    "f=1/(x**2+x-2)\n",
    "f"
   ]
  },
  {
   "cell_type": "code",
   "execution_count": 23,
   "metadata": {},
   "outputs": [
    {
     "data": {
      "image/png": "[encoded data removed]",
      "text/latex": [
       "$\\displaystyle \\frac{\\log{\\left(4 \\right)}}{3}$"
      ],
      "text/plain": [
       "log(4)\n",
       "──────\n",
       "  3   "
      ]
     },
     "execution_count": 23,
     "metadata": {},
     "output_type": "execute_result"
    }
   ],
   "source": [
    "integrate(f,(x, 2, +oo)) "
   ]
  },
  {
   "cell_type": "markdown",
   "metadata": {},
   "source": [
    "__5*.__ Вычислить несобственный интеграл\n",
    "\n",
    "### $$\\int\\limits_0^{1} \\ln x\\,dx$$"
   ]
  },
  {
   "cell_type": "markdown",
   "metadata": {},
   "source": [
    "$$U=\\ln x\\, \\Rightarrow\\, dU=\\frac{1}{x}dx$$\n",
    "$$dV=dx\\, \\Rightarrow\\, V=x$$\n",
    "\n",
    "$$\\int\\limits_0^{1} \\ln x\\,dx =x\\ln x- \\int\\limits_0^{1}\\,dx = x\\ln x-x\\bigg|_0^{1} = -1$$"
   ]
  },
  {
   "cell_type": "markdown",
   "metadata": {},
   "source": [
    "Решение на python для проверки"
   ]
  },
  {
   "cell_type": "code",
   "execution_count": 24,
   "metadata": {},
   "outputs": [
    {
     "data": {
      "image/png": "[encoded data removed]",
      "text/latex": [
       "$\\displaystyle \\log{\\left(x \\right)}$"
      ],
      "text/plain": [
       "log(x)"
      ]
     },
     "execution_count": 24,
     "metadata": {},
     "output_type": "execute_result"
    }
   ],
   "source": [
    "from sympy import *\n",
    "init_printing()\n",
    "x=Symbol('x')\n",
    "f=log(x)\n",
    "f"
   ]
  },
  {
   "cell_type": "code",
   "execution_count": 25,
   "metadata": {},
   "outputs": [
    {
     "data": {
      "image/png": "[encoded data removed]",
      "text/latex": [
       "$\\displaystyle -1$"
      ],
      "text/plain": [
       "-1"
      ]
     },
     "execution_count": 25,
     "metadata": {},
     "output_type": "execute_result"
    }
   ],
   "source": [
    "integrate(f,(x, 0, 1))"
   ]
  }
 ],
 "metadata": {
  "kernelspec": {
   "display_name": "Python 3",
   "language": "python",
   "name": "python3"
  },
  "language_info": {
   "codemirror_mode": {
    "name": "ipython",
    "version": 3
   },
   "file_extension": ".py",
   "mimetype": "text/x-python",
   "name": "python",
   "nbconvert_exporter": "python",
   "pygments_lexer": "ipython3",
   "version": "3.8.5"
  }
 },
 "nbformat": 4,
 "nbformat_minor": 4
}
