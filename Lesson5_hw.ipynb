{
 "cells": [
  {
   "cell_type": "markdown",
   "metadata": {},
   "source": [
    "# Урок 5. Предел функции. Часть 2. Домашнее задание"
   ]
  },
  {
   "cell_type": "markdown",
   "metadata": {},
   "source": [
    "__1.__ Найти производную функции:\n",
    "\n",
    "### $$y=\\frac{1}{x}+\\frac{2}{x^2}-\\frac{5}{x^3}+\\sqrt x -\\sqrt[3]x+\\frac{3}{\\sqrt x}$$\n",
    "$$y'= -\\frac{1}{x^2}-\\frac{4}{x^3}+\\frac{15}{x^4}+\\frac{1}{2\\sqrt x}+ \\frac{1}{3\\sqrt[3]x^2}-\\frac{3}{2\\sqrt x^3}$$"
   ]
  },
  {
   "cell_type": "markdown",
   "metadata": {},
   "source": [
    "__2.__ Найти производную функции:\n",
    "\n",
    "### $$y=x \\cdot \\sqrt {1+x^2}$$\n",
    "$$y'= \\sqrt {1+x^2} + x\\cdot \\frac{1}{2}(1+x^2)^{(\\frac{1}{2}-1)}\\cdot 2x =\\sqrt {1+x^2}+ \\frac{x^2}{\\sqrt {1+x^2}} $$"
   ]
  },
  {
   "cell_type": "markdown",
   "metadata": {},
   "source": [
    "__3.__ Найти производную функции:\n",
    "\n",
    "### $$y= \\frac{2x}{1-x^2}$$\n",
    "$$y'= \\frac{2 \\cdot (1-x^2)- 2x \\cdot (-2x)}{(1-x^2)^2}=\\frac{2}{1-x^2}+\\frac{4x^2}{(1-x^2)^2}$$"
   ]
  },
  {
   "cell_type": "markdown",
   "metadata": {},
   "source": [
    "__4*.__ Найти производную функции:\n",
    "\n",
    "### $$y=\\sqrt{x+ \\sqrt{x+\\sqrt x}}$$"
   ]
  },
  {
   "cell_type": "markdown",
   "metadata": {},
   "source": [
    "$$y'= \\frac {1}{2\\sqrt{x+ \\sqrt{x+\\sqrt x}}} \\cdot  \\Bigr( \\frac {1}{2\\sqrt{x+\\sqrt x}}  \\Bigl) \\cdot \\Bigr(1+ \\frac {1}{2\\sqrt{x}}  \\Bigl)+1=\\frac {1}{2\\sqrt{x+ \\sqrt{x+\\sqrt x}}} \\cdot  \\Bigr( \\frac {\\frac {1}{2}+ \\frac {1}{4\\sqrt x}}{\\sqrt{x+\\sqrt x}}  \\Bigl) +1 \\Bigl)= \\frac{ \\frac{\\frac{1}{2}+ \\frac {1}{4\\sqrt x}} {2 \\sqrt{x+\\sqrt x}} + \\frac {1}{2}}{\\sqrt{x+ \\sqrt{x+\\sqrt x}}}$$"
   ]
  },
  {
   "cell_type": "markdown",
   "metadata": {},
   "source": [
    "__5.__ Найти производную функции:\n",
    "\n",
    "### $$y= \\ln(x+\\sqrt{x^2+1})$$\n",
    "$$y'= \\frac {1+ \\frac{x}{\\sqrt {x^2+1}}}{x+\\sqrt{x^2+1}}=\\frac{x+\\sqrt{x^2+1}}{\\sqrt{x^2+1}}\\cdot \\frac{1}{x+\\sqrt{x^2+1}}=\\frac{1}{\\sqrt{x^2+1}}$$"
   ]
  },
  {
   "cell_type": "markdown",
   "metadata": {},
   "source": [
    "__6.__ Найти производную функции:\n",
    "\n",
    "### $$y=x \\cdot \\ln(x+\\sqrt{x^2+1})-\\sqrt{x^2+1}$$\n",
    "$$y'= ln(x+\\sqrt{x^2+1})+ \\frac{x}{\\sqrt{x^2+1}}-\\frac{x}{\\sqrt {x^2+1}}=ln(x+\\sqrt{x^2+1})$$"
   ]
  },
  {
   "cell_type": "markdown",
   "metadata": {},
   "source": [
    "__7*.__ Найти производную функции:\n",
    "\n",
    "### $$y=\\arcsin (\\sin x)$$"
   ]
  },
  {
   "cell_type": "markdown",
   "metadata": {},
   "source": [
    "$$ y'= \\frac{\\cos x}{\\sqrt{1-\\sin ^2x}}=\\frac{\\cos x}{\\sqrt{\\cos ^2x}}=\\frac{\\cos x}{\\mid\\cos x\\mid}=sgn(\\cos x)$$"
   ]
  },
  {
   "cell_type": "markdown",
   "metadata": {},
   "source": [
    "__8*.__ Вычислить приближенное значение: \n",
    "\n",
    "### $$\\sin(1^0)=\\sin\\Bigl(\\frac{\\pi}{180}\\Bigr)$$"
   ]
  },
  {
   "cell_type": "markdown",
   "metadata": {},
   "source": [
    "Воспользуемся формулой $$f(x+\\Delta x) \\approx f(x)+f'(x) \\cdot \\Delta x$$\n",
    "$\\begin{array}{l}\\\n",
    "    \\sin (x)' = \\cos (x)\\\\\n",
    "    \\sin (x + \\Delta x)\\, = \\sin (x) + \\,\\cos (x) \\cdot \\Delta x\\\\\n",
    "    \\sin \\left( {\\frac{\\pi }{{180}}} \\right)\\, = \\sin \\left( {0 + \\frac{\\pi }{{180}}} \\right)\\, = \\sin (0) + \\,\\cos (0) \\cdot \\frac{\\pi }{{180}} = 0 + 1 \\cdot \\frac{\\pi }{{180}} = 0.017\n",
    "    \\end{array}$"
   ]
  },
  {
   "cell_type": "markdown",
   "metadata": {},
   "source": [
    "__9**.__ Написать на python алгоритм, по вычислению значений $\\sin(x)$ для $х \\in[0, 30^0]$\n",
    "\n",
    "Для проверки подойдут данные из таблицы Брадиса"
   ]
  },
  {
   "cell_type": "code",
   "execution_count": 5,
   "metadata": {},
   "outputs": [
    {
     "data": {
      "text/html": [
       "<div>\n",
       "<style scoped>\n",
       "    .dataframe tbody tr th:only-of-type {\n",
       "        vertical-align: middle;\n",
       "    }\n",
       "\n",
       "    .dataframe tbody tr th {\n",
       "        vertical-align: top;\n",
       "    }\n",
       "\n",
       "    .dataframe thead th {\n",
       "        text-align: right;\n",
       "    }\n",
       "</style>\n",
       "<table border=\"1\" class=\"dataframe\">\n",
       "  <thead>\n",
       "    <tr style=\"text-align: right;\">\n",
       "      <th></th>\n",
       "      <th>angle</th>\n",
       "      <th>sin</th>\n",
       "    </tr>\n",
       "  </thead>\n",
       "  <tbody>\n",
       "    <tr>\n",
       "      <th>0</th>\n",
       "      <td>0.0</td>\n",
       "      <td>0.000000</td>\n",
       "    </tr>\n",
       "    <tr>\n",
       "      <th>1</th>\n",
       "      <td>1.0</td>\n",
       "      <td>0.017452</td>\n",
       "    </tr>\n",
       "    <tr>\n",
       "      <th>2</th>\n",
       "      <td>2.0</td>\n",
       "      <td>0.034899</td>\n",
       "    </tr>\n",
       "    <tr>\n",
       "      <th>3</th>\n",
       "      <td>3.0</td>\n",
       "      <td>0.052336</td>\n",
       "    </tr>\n",
       "    <tr>\n",
       "      <th>4</th>\n",
       "      <td>4.0</td>\n",
       "      <td>0.069756</td>\n",
       "    </tr>\n",
       "    <tr>\n",
       "      <th>5</th>\n",
       "      <td>5.0</td>\n",
       "      <td>0.087156</td>\n",
       "    </tr>\n",
       "    <tr>\n",
       "      <th>6</th>\n",
       "      <td>6.0</td>\n",
       "      <td>0.104528</td>\n",
       "    </tr>\n",
       "    <tr>\n",
       "      <th>7</th>\n",
       "      <td>7.0</td>\n",
       "      <td>0.121869</td>\n",
       "    </tr>\n",
       "    <tr>\n",
       "      <th>8</th>\n",
       "      <td>8.0</td>\n",
       "      <td>0.139173</td>\n",
       "    </tr>\n",
       "    <tr>\n",
       "      <th>9</th>\n",
       "      <td>9.0</td>\n",
       "      <td>0.156434</td>\n",
       "    </tr>\n",
       "    <tr>\n",
       "      <th>10</th>\n",
       "      <td>10.0</td>\n",
       "      <td>0.173648</td>\n",
       "    </tr>\n",
       "    <tr>\n",
       "      <th>11</th>\n",
       "      <td>11.0</td>\n",
       "      <td>0.190809</td>\n",
       "    </tr>\n",
       "    <tr>\n",
       "      <th>12</th>\n",
       "      <td>12.0</td>\n",
       "      <td>0.207912</td>\n",
       "    </tr>\n",
       "    <tr>\n",
       "      <th>13</th>\n",
       "      <td>13.0</td>\n",
       "      <td>0.224951</td>\n",
       "    </tr>\n",
       "    <tr>\n",
       "      <th>14</th>\n",
       "      <td>14.0</td>\n",
       "      <td>0.241922</td>\n",
       "    </tr>\n",
       "    <tr>\n",
       "      <th>15</th>\n",
       "      <td>15.0</td>\n",
       "      <td>0.258819</td>\n",
       "    </tr>\n",
       "    <tr>\n",
       "      <th>16</th>\n",
       "      <td>16.0</td>\n",
       "      <td>0.275637</td>\n",
       "    </tr>\n",
       "    <tr>\n",
       "      <th>17</th>\n",
       "      <td>17.0</td>\n",
       "      <td>0.292372</td>\n",
       "    </tr>\n",
       "    <tr>\n",
       "      <th>18</th>\n",
       "      <td>18.0</td>\n",
       "      <td>0.309017</td>\n",
       "    </tr>\n",
       "    <tr>\n",
       "      <th>19</th>\n",
       "      <td>19.0</td>\n",
       "      <td>0.325568</td>\n",
       "    </tr>\n",
       "    <tr>\n",
       "      <th>20</th>\n",
       "      <td>20.0</td>\n",
       "      <td>0.342020</td>\n",
       "    </tr>\n",
       "    <tr>\n",
       "      <th>21</th>\n",
       "      <td>21.0</td>\n",
       "      <td>0.358368</td>\n",
       "    </tr>\n",
       "    <tr>\n",
       "      <th>22</th>\n",
       "      <td>22.0</td>\n",
       "      <td>0.374607</td>\n",
       "    </tr>\n",
       "    <tr>\n",
       "      <th>23</th>\n",
       "      <td>23.0</td>\n",
       "      <td>0.390731</td>\n",
       "    </tr>\n",
       "    <tr>\n",
       "      <th>24</th>\n",
       "      <td>24.0</td>\n",
       "      <td>0.406737</td>\n",
       "    </tr>\n",
       "    <tr>\n",
       "      <th>25</th>\n",
       "      <td>25.0</td>\n",
       "      <td>0.422618</td>\n",
       "    </tr>\n",
       "    <tr>\n",
       "      <th>26</th>\n",
       "      <td>26.0</td>\n",
       "      <td>0.438371</td>\n",
       "    </tr>\n",
       "    <tr>\n",
       "      <th>27</th>\n",
       "      <td>27.0</td>\n",
       "      <td>0.453990</td>\n",
       "    </tr>\n",
       "    <tr>\n",
       "      <th>28</th>\n",
       "      <td>28.0</td>\n",
       "      <td>0.469472</td>\n",
       "    </tr>\n",
       "    <tr>\n",
       "      <th>29</th>\n",
       "      <td>29.0</td>\n",
       "      <td>0.484810</td>\n",
       "    </tr>\n",
       "    <tr>\n",
       "      <th>30</th>\n",
       "      <td>30.0</td>\n",
       "      <td>0.500000</td>\n",
       "    </tr>\n",
       "  </tbody>\n",
       "</table>\n",
       "</div>"
      ],
      "text/plain": [
       "    angle       sin\n",
       "0     0.0  0.000000\n",
       "1     1.0  0.017452\n",
       "2     2.0  0.034899\n",
       "3     3.0  0.052336\n",
       "4     4.0  0.069756\n",
       "5     5.0  0.087156\n",
       "6     6.0  0.104528\n",
       "7     7.0  0.121869\n",
       "8     8.0  0.139173\n",
       "9     9.0  0.156434\n",
       "10   10.0  0.173648\n",
       "11   11.0  0.190809\n",
       "12   12.0  0.207912\n",
       "13   13.0  0.224951\n",
       "14   14.0  0.241922\n",
       "15   15.0  0.258819\n",
       "16   16.0  0.275637\n",
       "17   17.0  0.292372\n",
       "18   18.0  0.309017\n",
       "19   19.0  0.325568\n",
       "20   20.0  0.342020\n",
       "21   21.0  0.358368\n",
       "22   22.0  0.374607\n",
       "23   23.0  0.390731\n",
       "24   24.0  0.406737\n",
       "25   25.0  0.422618\n",
       "26   26.0  0.438371\n",
       "27   27.0  0.453990\n",
       "28   28.0  0.469472\n",
       "29   29.0  0.484810\n",
       "30   30.0  0.500000"
      ]
     },
     "execution_count": 5,
     "metadata": {},
     "output_type": "execute_result"
    }
   ],
   "source": [
    "import pandas as pd\n",
    "import numpy as np\n",
    "import math \n",
    "\n",
    "\n",
    "N = 31\n",
    "\n",
    "df = pd.DataFrame()\n",
    "df['angle'] = np.linspace(0, 30, num=N)\n",
    "df['sin'] = df.apply(lambda x:math.sin(math.radians(x)), axis=1)\n",
    "df"
   ]
  }
 ],
 "metadata": {
  "kernelspec": {
   "display_name": "Python 3",
   "language": "python",
   "name": "python3"
  },
  "language_info": {
   "codemirror_mode": {
    "name": "ipython",
    "version": 3
   },
   "file_extension": ".py",
   "mimetype": "text/x-python",
   "name": "python",
   "nbconvert_exporter": "python",
   "pygments_lexer": "ipython3",
   "version": "3.8.5"
  }
 },
 "nbformat": 4,
 "nbformat_minor": 4
}
