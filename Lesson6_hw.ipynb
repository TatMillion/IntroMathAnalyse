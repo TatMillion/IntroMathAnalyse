{
 "cells": [
  {
   "cell_type": "markdown",
   "metadata": {},
   "source": [
    "# Урок 6. Производная функции одной переменной. Часть 1. Домашнее задание"
   ]
  },
  {
   "cell_type": "markdown",
   "metadata": {},
   "source": [
    "__1.__ Найти производную $y'_{x}$ функции:\n",
    "\n",
    "### $$\\mbox{arctg}(\\frac{y}{x})=\\ln \\sqrt{x^2+y^2}$$"
   ]
  },
  {
   "cell_type": "markdown",
   "metadata": {},
   "source": [
    "$$\\frac{1}{1+\\Bigr(\\frac{y}{x}\\Bigl)^2}\\cdot \\frac{y'\\cdot x-y\\cdot 1}{x^2} =\\frac{1}{2}\\cdot \\frac{1}{x^2+y^2} \\cdot (2x+2y\\cdot y')$$\n"
   ]
  },
  {
   "cell_type": "markdown",
   "metadata": {},
   "source": [
    "$$\\frac{y'\\cdot x - y \\cdot}{x^2+y^2} = \\frac{x+y\\cdot y'}{x^2+y^2}$$\n",
    "$$y'(x-y)=x+y $$\n",
    "$$ y'= \\frac {x+y}{x-y}$$\n"
   ]
  },
  {
   "cell_type": "markdown",
   "metadata": {},
   "source": [
    "__2.__ Найти производную $y'_{x}$ функции:\n",
    "\n",
    "### \\begin{cases}\n",
    "   y=\\frac{t^2}{t-1}, \\\\\n",
    "   x=\\frac{t}{t^2-1} \n",
    " \\end{cases}"
   ]
  },
  {
   "cell_type": "markdown",
   "metadata": {},
   "source": [
    "$\\begin{array}{l} \\left\\{ {\\begin{array}{*{20}{l}} {{{y'}_t} = {{\\left( {\\frac{{{t^2}}}{{t - 1}}} \\right)}^\\prime } = \\frac{{{{\\left( {{t^2}} \\right)}^\\prime }\\left( {t - 1} \\right) - {t^2}{{\\left( {t - 1} \\right)}^\\prime }}}{{{{\\left( {t - 1} \\right)}^2}}} = \\frac{{2t\\left( {t - 1} \\right) - {t^2}}}{{{{\\left( {t - 1} \\right)}^2}}} = \\frac{{{t^2} - 2t}}{{{{\\left( {t - 1} \\right)}^2}}}}\\\\ {{{x'}_t} = {{\\left( {\\frac{t}{{{t^2} - 1}}} \\right)}^\\prime } = \\frac{{{{\\left( t \\right)}^\\prime }\\left( {{t^2} - 1} \\right) - t{{\\left( {{t^2} - 1} \\right)}^\\prime }}}{{{{\\left( {{t^2} - 1} \\right)}^2}}} = \\frac{{{t^2} - 1 - 2{t^2}}}{{{{\\left( {{t^2} - 1} \\right)}^2}}} = - \\frac{{1 + {t^2}}}{{{{\\left( {{t^2} - 1} \\right)}^2}}}} \\end{array}} \\right.\\\\ {{y'}_x} = \\frac{{y'}}{{x'}} = - \\frac{{\\frac{{{t^2} - 2t}}{{{{\\left( {t - 1} \\right)}^2}}}}}{{\\frac{{1 + {t^2}}}{{{{\\left( {{t^2} - 1} \\right)}^2}}}}} = - \\frac{{\\left( {{t^2} - 2t} \\right){{\\left( {{t^2} - 1} \\right)}^2}}}{{\\left( {1 + {t^2}} \\right){{\\left( {t - 1} \\right)}^2}}} \\end{array}$"
   ]
  },
  {
   "cell_type": "markdown",
   "metadata": {},
   "source": [
    "__3.__ Найти производную с помощью логарифмирования:\n",
    "\n",
    "### $$y=(x^2+2)^5\\cdot(3x-x^3)^3$$\n",
    "$$y'= (x^2+2)^5\\cdot(3x-x^3)^3\\cdot(5\\ln(x^2+2) + 3\\ln(3x-x^3))' = $$\n",
    "$$ = (x^2+2)^5\\cdot(3x-x^3)^3\\cdot\\Bigr(\\frac{10x}{(x^2+2)} + \\frac{9-9x^2}{(3x-x^3)}\\Bigr)=$$\n",
    "$${10x}\\cdot (x^2+2)^4\\cdot(3x-x^3)^3 + {(9-9x^2)}\\cdot{(x^2+2)^5}\\cdot{(3x-x^2)}$$"
   ]
  },
  {
   "cell_type": "markdown",
   "metadata": {},
   "source": [
    "Решение c помощью python для проверки"
   ]
  },
  {
   "cell_type": "code",
   "execution_count": 6,
   "metadata": {},
   "outputs": [
    {
     "data": {
      "image/png": "[encoded data removed]",
      "text/latex": [
       "$\\displaystyle 10 x \\left(x^{2} + 2\\right)^{4} \\left(- x^{3} + 3 x\\right)^{3} + \\left(9 - 9 x^{2}\\right) \\left(x^{2} + 2\\right)^{5} \\left(- x^{3} + 3 x\\right)^{2}$"
      ],
      "text/plain": [
       "             4             3                      5             2\n",
       "     ⎛ 2    ⎞  ⎛   3      ⎞    ⎛       2⎞ ⎛ 2    ⎞  ⎛   3      ⎞ \n",
       "10⋅x⋅⎝x  + 2⎠ ⋅⎝- x  + 3⋅x⎠  + ⎝9 - 9⋅x ⎠⋅⎝x  + 2⎠ ⋅⎝- x  + 3⋅x⎠ "
      ]
     },
     "execution_count": 6,
     "metadata": {},
     "output_type": "execute_result"
    }
   ],
   "source": [
    "from sympy import *\n",
    "init_printing()\n",
    "x=Symbol('x')\n",
    "y=(x**2+2)**5*(3*x-x**3)**3\n",
    "diff(y,x)"
   ]
  },
  {
   "cell_type": "markdown",
   "metadata": {},
   "source": [
    "__4.__ Найти производную функции с помощью логарифмирования:\n",
    "\n",
    "### $$y=x^x$$\n",
    "$$ y' = x^x\\cdot(ln(x^x)') = x^x \\cdot (lnx +x \\cdot\\frac{1}{x}) = x^x\\cdot(lnx+1)$$"
   ]
  },
  {
   "cell_type": "markdown",
   "metadata": {},
   "source": [
    "Решение c помощью python для проверки"
   ]
  },
  {
   "cell_type": "code",
   "execution_count": 7,
   "metadata": {},
   "outputs": [
    {
     "data": {
      "image/png": "[encoded data removed]",
      "text/latex": [
       "$\\displaystyle x^{x} \\left(\\log{\\left(x \\right)} + 1\\right)$"
      ],
      "text/plain": [
       " x             \n",
       "x ⋅(log(x) + 1)"
      ]
     },
     "execution_count": 7,
     "metadata": {},
     "output_type": "execute_result"
    }
   ],
   "source": [
    "from sympy import *\n",
    "init_printing()\n",
    "x=Symbol('x')\n",
    "y=x**x\n",
    "diff(y,x)"
   ]
  },
  {
   "cell_type": "markdown",
   "metadata": {},
   "source": [
    "__5.__ Найти производную функции с помощью логарифмирования:\n",
    "\n",
    "### $$y=\\frac{(2-x^2)^3\\cdot(x-1)^2}{(2x^3-3x)\\cdot e^x}$$"
   ]
  },
  {
   "cell_type": "markdown",
   "metadata": {},
   "source": [
    "$$ y'=\\frac{(2-x^2)^3\\cdot(x-1)^2}{(2x^3-3x)\\cdot e^x}\\cdot(ln (\\frac{(2-x^2)^3\\cdot(x-1)^2}{(2x^3-3x}))'=$$\n",
    "$$ =\\frac{(2-x^2)^3\\cdot(x-1)^2}{(2x^3-3x)\\cdot e^x}\\cdot(3ln {(2-x^2)} + 2ln (x-1) - ln (2x^3-3x) - xlne)'=$$\n",
    "$$=\\frac{(2-x^2)^3\\cdot(x-1)^2}{(2x^3-3x)\\cdot e^x}\\cdot(\\frac {-6x}{2-x^2} + \\frac{2}{x-1} - \\frac{6x^2-3}{2x^3-3x} - 1)$$"
   ]
  },
  {
   "cell_type": "markdown",
   "metadata": {},
   "source": [
    "Решение c помощью python для проверки"
   ]
  },
  {
   "cell_type": "code",
   "execution_count": 14,
   "metadata": {},
   "outputs": [
    {
     "data": {
      "image/png": "[encoded data removed]",
      "text/latex": [
       "$\\displaystyle \\frac{\\left(2 - x^{2}\\right)^{3} \\left(x - 1\\right)^{2} e^{- x}}{2 x^{3} - 3 x}$"
      ],
      "text/plain": [
       "        3             \n",
       "⎛     2⎞         2  -x\n",
       "⎝2 - x ⎠ ⋅(x - 1) ⋅ℯ  \n",
       "──────────────────────\n",
       "         3            \n",
       "      2⋅x  - 3⋅x      "
      ]
     },
     "execution_count": 14,
     "metadata": {},
     "output_type": "execute_result"
    }
   ],
   "source": [
    "from sympy import *\n",
    "init_printing()\n",
    "x=Symbol('x')\n",
    "y=((2-x**2)**3*(x-1)**2)/(exp(x)*(2*x**3-3*x))\n",
    "y"
   ]
  },
  {
   "cell_type": "code",
   "execution_count": 15,
   "metadata": {},
   "outputs": [
    {
     "data": {
      "image/png": "[encoded data removed]",
      "text/latex": [
       "$\\displaystyle - \\frac{6 x \\left(2 - x^{2}\\right)^{2} \\left(x - 1\\right)^{2} e^{- x}}{2 x^{3} - 3 x} + \\frac{\\left(2 - x^{2}\\right)^{3} \\left(3 - 6 x^{2}\\right) \\left(x - 1\\right)^{2} e^{- x}}{\\left(2 x^{3} - 3 x\\right)^{2}} - \\frac{\\left(2 - x^{2}\\right)^{3} \\left(x - 1\\right)^{2} e^{- x}}{2 x^{3} - 3 x} + \\frac{\\left(2 - x^{2}\\right)^{3} \\left(2 x - 2\\right) e^{- x}}{2 x^{3} - 3 x}$"
      ],
      "text/plain": [
       "              2                        3                                   3  \n",
       "      ⎛     2⎞         2  -x   ⎛     2⎞  ⎛       2⎞        2  -x   ⎛     2⎞   \n",
       "  6⋅x⋅⎝2 - x ⎠ ⋅(x - 1) ⋅ℯ     ⎝2 - x ⎠ ⋅⎝3 - 6⋅x ⎠⋅(x - 1) ⋅ℯ     ⎝2 - x ⎠ ⋅(\n",
       "- ────────────────────────── + ───────────────────────────────── - ───────────\n",
       "             3                                       2                      3 \n",
       "          2⋅x  - 3⋅x                     ⎛   3      ⎞                    2⋅x  \n",
       "                                         ⎝2⋅x  - 3⋅x⎠                         \n",
       "\n",
       "                      3              \n",
       "      2  -x   ⎛     2⎞             -x\n",
       "x - 1) ⋅ℯ     ⎝2 - x ⎠ ⋅(2⋅x - 2)⋅ℯ  \n",
       "─────────── + ───────────────────────\n",
       "                        3            \n",
       "- 3⋅x                2⋅x  - 3⋅x      \n",
       "                                     "
      ]
     },
     "execution_count": 15,
     "metadata": {},
     "output_type": "execute_result"
    }
   ],
   "source": [
    "diff(y,x)"
   ]
  },
  {
   "cell_type": "markdown",
   "metadata": {},
   "source": [
    "__6*.__ Вывести табличное значение производной для функции\n",
    "\n",
    "### $$\\mbox{arctg}(x)$$\n",
    "### $$ y=\\mbox{arctg}(x) ) \\Rightarrow x = \\mbox{tg(y)}$$\n",
    "### $$ y'=\\frac{1}{x'}  \\Rightarrow x'=\\frac{1}{y'}$$\n",
    "### $$ y'=\\frac{1}{\\mbox{tg'(y)}}=\\frac{1}{\\frac{1}{cos^2(y)}} = cos^2y $$\n",
    "### $$ x'=\\frac{1}{cos^2y} = \\frac{sin^2y + cos^2y}{cos^2y} = 1 + {\\Bigr(\\frac{siny}{cosy}\\Bigr)}^2 = 1+tg^2y = 1 + x^2 $$\n",
    "$$ y' = \\frac{1}{1+x^2}$$"
   ]
  },
  {
   "cell_type": "markdown",
   "metadata": {},
   "source": [
    "__7.__ Найти длину $𝑥$ и ширину $𝑦$ прямоугольника при заданном периметре $𝑃=144$ cм, при которых данный прямоугольник имеет наибольшую площадь $𝑆$.\n",
    "$$P = 2\\cdot(x+y)$$\n",
    "$$y = \\frac{P}{2}-x$$\n",
    "$$S=x\\cdot y=x\\cdot (\\frac{P}{2}-x)=\\frac{x\\cdot P}{2}-x^2$$\n",
    "$$ S'=\\frac{P}{2}-2x=0  \\Rightarrow x = \\frac{P}{4}=36 , y=36$$"
   ]
  },
  {
   "cell_type": "markdown",
   "metadata": {},
   "source": [
    "__8*.__ Завод $A$ отстоит от железной дороги, идущей с юга на север и проходящей через $B$, считая по кратчайшему расстоянию на $a$ км. Под каким углом $\\alpha$ к железной дороге следует ппостроить подъезной  путь от завода, чтобы транспортировка грузов из $A$ в $B$ была наиболее экономичной, если стоимость провоза тонны груза на расстоянии $1$ км составляет: по подъезному пути $p$ рублей, по железной дороге $q$ рублей $(p>q)$ и город $B$ расположен на $b$ км севернее завода $A$."
   ]
  },
  {
   "cell_type": "code",
   "execution_count": null,
   "metadata": {},
   "outputs": [],
   "source": []
  }
 ],
 "metadata": {
  "kernelspec": {
   "display_name": "Python 3",
   "language": "python",
   "name": "python3"
  },
  "language_info": {
   "codemirror_mode": {
    "name": "ipython",
    "version": 3
   },
   "file_extension": ".py",
   "mimetype": "text/x-python",
   "name": "python",
   "nbconvert_exporter": "python",
   "pygments_lexer": "ipython3",
   "version": "3.8.5"
  }
 },
 "nbformat": 4,
 "nbformat_minor": 4
}
