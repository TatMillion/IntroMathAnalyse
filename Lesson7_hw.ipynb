{
 "cells": [
  {
   "cell_type": "markdown",
   "metadata": {},
   "source": [
    "# Урок 7. Производная функции одной переменной. Часть 2. Домашнее задание"
   ]
  },
  {
   "cell_type": "markdown",
   "metadata": {},
   "source": [
    "__1.__ Найти частные производные первого и второго порядка. Убедиться в равенстве смешанных производных.\n",
    "\n",
    "### $$U=x^3+3xy^2+z^2-39x-36y+2z+26$$"
   ]
  },
  {
   "cell_type": "markdown",
   "metadata": {},
   "source": [
    "$U'_x = { {3x^2} + 3{y^2} - 39}$ \\,\n",
    "$U'_y = { {6xy} - 36}$ \\,\n",
    "$U'_z = { {2z} + 2}$\n",
    "\n",
    "$U''_{xx} = {6x}$ \\,\n",
    "$U''_{yy} = {6x}$ \\,\n",
    "$U''_{zz} = 2$\n",
    "\n",
    "$U''_{xy} = {6y}$ \\,\n",
    "$U''_{yx} = {6y}$ \\,\n",
    "$U''_{zx} = 0$\n",
    "\n",
    "$U''_{xz} = 0$ \\,\n",
    "$U''_{yz} = 0$ \\,\n",
    "$U''_{zy} = 0$"
   ]
  },
  {
   "cell_type": "markdown",
   "metadata": {},
   "source": [
    "__2.__ Найти частные производные первого и второго порядка. Убедиться в равенстве смешанных производных.\n",
    "\n",
    "### $$U=\\frac{256}{x}+\\frac{x^2}{y}+\\frac{y^2}{z}+z^2$$"
   ]
  },
  {
   "cell_type": "markdown",
   "metadata": {},
   "source": [
    "$U'_x = { -\\frac{256}{x^2} + \\frac{2x}{y}}$ \\,\n",
    "$U'_y = { -\\frac{x^2}{y^2}+ \\frac{2y}{z}}$ \\,\n",
    "$U'_z = { -\\frac{y^2}{z^2} + 2z}$\n",
    "\n",
    "$U''_{xx} =  { \\frac{512}{x^3} + \\frac{2}{y}}$ \\,\n",
    "$U''_{yy} = \\frac{2x^2}{y^3}+ \\frac{2}{z}$ \\,\n",
    "$U''_{zz} = { \\frac{2y^2}{z^3} + 2}$"
   ]
  },
  {
   "cell_type": "markdown",
   "metadata": {},
   "source": [
    "$U''_{xy} = {-\\frac{2x}{y^2}}$ \\,\n",
    "$U''_{yx} = {-\\frac{2x}{y^2}}$ \\,\n",
    "$U''_{zx} = 0$\n",
    "\n",
    "$U''_{xz} = 0$ \\,\n",
    "$U''_{yz} = -\\frac{2y}{z^2}$ \\,\n",
    "$U''_{zy} = -\\frac{2y}{z^2}$\n"
   ]
  },
  {
   "cell_type": "markdown",
   "metadata": {},
   "source": [
    "__3.__ Найти производную функции $U=x^2+y^2+z^2$ по направлению вектора $\\overrightarrow{c}(-9,8,-12)$ в точке $M(8,-12,9)$"
   ]
  },
  {
   "cell_type": "markdown",
   "metadata": {},
   "source": [
    "$$ U'_x = 2x \\quad U'_y = 2y \\quad U'_z = 2z$$\n",
    "$$ \\mbox{grad}U=(2x,2y,2z)$$\n",
    "$$ \\mid\\overrightarrow{c}\\mid = \\sqrt{81+64+144} = 17$$\n",
    "$$ \\overrightarrow {c_0} = \\Big(-\\frac{9}{17}, \\frac{8}{17}, -\\frac{12}{17}\\Big)$$\n",
    "$$ \\mbox{grad}U_M=(16,-24, 18)$$\n",
    "$$ U'_\\overrightarrow {c}=\\frac{-9 \\cdot 16}{17} + \\frac{-24 \\cdot 8}{17} + \\frac{-12 \\cdot 18}{17} = -\\frac{552}{17}$$"
   ]
  },
  {
   "cell_type": "markdown",
   "metadata": {},
   "source": [
    "__4.__ Найти производную функции $U=e^{x^2+y^2+z^2}$ по направлению вектора $\\overrightarrow{c}(4,-13,-16)$ в точке $L(-16,4,-13)$"
   ]
  },
  {
   "cell_type": "markdown",
   "metadata": {},
   "source": [
    "$$ U'_x = 2xe^{x^2+y^2+z^2} \\quad U'_y = 2ye^{x^2+y^2+z^2} \\quad U'_z = 2ze^{x^2+y^2+z^2}$$\n",
    "$$ \\mbox{grad}U=(2xe^{x^2+y^2+z^2},2ye^{x^2+y^2+z^2},2ze^{x^2+y^2+z^2})$$\n",
    "$$ \\mid\\overrightarrow{c}\\mid = \\sqrt{16+169+256} = 21$$\n",
    "$$ \\overrightarrow {c_0} = \\Big(\\frac{4}{21}, -\\frac{13}{21}, -\\frac{16}{21}\\Big)$$\n",
    "$$ \\mbox{grad}U_L=(-32e^{441},8e^{441}, -26e^{441})$$\n",
    "$$ U'_\\overrightarrow {c}=\\frac{4}{21}\\cdot -32 e^{441} + -\\frac{13}{21} \\cdot 8 e^{441}+ \\frac{16}{21}\\cdot \\frac{26e^{441}}{21} = e^{441} \\cdot \\frac{184}{21}$$\""
   ]
  },
  {
   "cell_type": "markdown",
   "metadata": {},
   "source": [
    "__5*.__ Найти производную функции $U=\\log_{21}(x^2+y^2+z^2)$ в точке $F(-19,8,-4)$ по самому быстрому направлению."
   ]
  },
  {
   "cell_type": "markdown",
   "metadata": {},
   "source": [
    "$$ U'_x = \\frac{2x}{(x^2+y^2+z^2)\\ln{21}} \\quad U'_y = \\frac{2y}{(x^2+y^2+z^2)\\ln{21}} \\quad U'_z = \\frac{2z}{(x^2+y^2+z^2)\\ln{21}}$$\\\n",
    "$$ \\mbox{grad}U_F=\\Big(-\\frac{38}{441\\ln{21}},\\frac{16}{441\\ln{21}},-\\frac{8}{441\\\\ln{21}}\\Big)$$\n",
    "$$ \\mid\\mbox{grad}U_F\\mid=\\sqrt{\\frac{1444}{441\\ln{21}}+\\frac{256}{441\\ln{21}}+\\frac{64}{441\\ln{21}}} = \\frac{2}{\\ln{21}}$$\n",
    "$$ \\mbox{grad}U_0=\\Big(-\\frac{19}{21},\\frac{8}{21},-\\frac{4}{21}\\Big)$$\n",
    "$$ U'_{\\mbox{grad}U_0}=\\mbox{grad}U_0\\cdot\\mbox{grad}U=\\frac{2}{21\\ln 21}$$"
   ]
  },
  {
   "cell_type": "markdown",
   "metadata": {},
   "source": [
    "\n",
    "\n",
    "$$\\begin{array}{l}\n",
    "    {{U'}_x} = \\frac{{2x}}{{\\left( {{x^2} + {y^2} + {z^2}} \\right)\\ln 21}}\\\\\\\\\n",
    "    {{U'}_y} = \\frac{{2y}}{{\\left( {{x^2} + {y^2} + {z^2}} \\right)\\ln 21}}\\\\\\\\\n",
    "    {{U'}_z} = \\frac{{2z}}{{\\left( {{x^2} + {y^2} + {z^2}} \\right)\\21}}\\\\\\\\\\\n",
    "    {\\rm{grad}}U = \\left( { - \\frac{1}{{\\ln 21}} \\cdot \\frac{{38}}{{441}},\\frac{1}{{\\ln 21}} \\cdot \\frac{{16}}{{441}}, - \\frac{1}{{\\ln 21}} \\cdot \\frac{8}{{441}}\\,} \\right)\n",
    "    \\end{array}$$\\"
   ]
  },
  {
   "cell_type": "markdown",
   "metadata": {},
   "source": [
    "${{U'}_{{\\rm{grad}}U}} = \\left( {\\frac{{{{38}^2}}}{{\\sqrt {{{\\left( { - \\frac{1}{{\\ln 21}} \\cdot \\frac{{38}}{{441}}} \\right)}^2} + {{\\left( {\\frac{1}{{\\ln 21}} \\cdot \\frac{{16}}{{441}}} \\right)}^2} + {{\\left( { - \\frac{1}{{\\ln 21}} \\cdot \\frac{8}{{441}}} \\right)}^2}} }},\\frac{{{{16}^2}}}{{\\sqrt {{{\\left( { - \\frac{1}{{\\ln 21}} \\cdot \\frac{{38}}{{441}}} \\right)}^2} + {{\\left( {\\frac{1}{{\\ln 21}} \\cdot \\frac{{16}}{{441}}} \\right)}^2} + {{\\left( { - \\frac{1}{{\\ln 21}} \\cdot \\frac{8}{{441}}} \\right)}^2}} }},\\frac{{{8^2}}}{{\\sqrt {{{\\left( { - \\frac{1}{{\\ln 21}} \\cdot \\frac{{38}}{{441}}} \\right)}^2} + {{\\left( {\\frac{1}{{\\ln 21}} \\cdot \\frac{{16}}{{441}}} \\right)}^2} + {{\\left( { - \\frac{1}{{\\ln 21}} \\cdot \\frac{8}{{441}}} \\right)}^2}} }},} \\right) \\approx \\left( {46161.049,{\\rm{ }}8183.676,{\\rm{ }}2045.919} \\right)$"
   ]
  },
  {
   "cell_type": "markdown",
   "metadata": {},
   "source": [
    "__6.__ Исследовать на экстремум функцию:\n",
    "\n",
    "### $$U=x^2y+\\frac{1}{3}y^3+2x^2+3y^2-1$$"
   ]
  },
  {
   "cell_type": "markdown",
   "metadata": {},
   "source": [
    "$$ U'_x = 2yx+4x \\quad, U'_y = x^2+y^2+6y$$\n",
    "\\begin{cases}\n",
    "    2yx+4x=0, \\\\\\\\\\\n",
    "    x^2+y^2+6y=0 \n",
    "    \\end{cases}\n",
    "$$ (0, 0), \\: (0,-6), \\: (-2\\sqrt2,-2), \\: (2\\sqrt2,-2)$$\n",
    "$$ U'_{xx} = 2y+4 \\quad U'_{yy} = 2y+6 \\quad U'_{xy} = 2x$$\n",
    "\n",
    "  $$\\Delta_{1}=U''_{xx}=2y+6$$\n",
    "  $$\\Delta_{2}=\\begin{vmatrix}\n",
    "U''_{xx} & U''_{xy}\\\\ \n",
    "U''_{yx} & U''_{yy}\\\\\n",
    "\\end{vmatrix}=U''_{xx}\\cdot U''_{yy}-(U''_{xy})^2=4y^2+20y+24-4x^2$$\n",
    "$$ Для\\ точки\\ (0,0)\\ \\Delta_{1}=6 \\quad \\Delta_{2}=24 \\quad (0,0) - \\ min$$\n",
    "  $$ Для\\ точки\\ (0,-6)\\ \\Delta_{1}=-6 \\quad \\Delta_{2}=48 \\quad (0,-6) - \\ max$$\n",
    "  $$ Для\\ точки\\  (-2\\sqrt2,-2) \\Delta_{1}=2 \\quad \\Delta_{2}=-32 \\quad (-2\\sqrt2,-2) - \\ \\: saddle \\: point$$\n",
    "  $$ Для\\ точки\\  (2\\sqrt2,-2) \\Delta_{1}=2 \\quad \\Delta_{2}=-32 \\quad (2\\sqrt2,-2) - \\ \\: saddle \\: point$$"
   ]
  },
  {
   "cell_type": "markdown",
   "metadata": {},
   "source": [
    "__7*.__ Исследовать на экстремум функцию:\n",
    "\n",
    "### $$U=e^{-\\frac{x}{2}}\\cdot(x^2+y^2)$$"
   ]
  },
  {
   "cell_type": "markdown",
   "metadata": {},
   "source": []
  },
  {
   "cell_type": "markdown",
   "metadata": {},
   "source": [
    "__8**.__ С помощью метода наименьших квадратов (МНК) подобрать значения параметров $a$ и $b$ для сигмоидальной функции $$y=\\frac{1}{1+e^{-(ax+b)}}$$ \n",
    "\n",
    "по заданному распределению. Построить график."
   ]
  },
  {
   "cell_type": "markdown",
   "metadata": {},
   "source": []
  }
 ],
 "metadata": {
  "kernelspec": {
   "display_name": "Python 3",
   "language": "python",
   "name": "python3"
  },
  "language_info": {
   "codemirror_mode": {
    "name": "ipython",
    "version": 3
   },
   "file_extension": ".py",
   "mimetype": "text/x-python",
   "name": "python",
   "nbconvert_exporter": "python",
   "pygments_lexer": "ipython3",
   "version": "3.8.5"
  }
 },
 "nbformat": 4,
 "nbformat_minor": 4
}
